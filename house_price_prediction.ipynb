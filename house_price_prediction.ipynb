{
  "cells": [
    {
      "cell_type": "markdown",
      "metadata": {
        "id": "6jdGTwfmh5wC"
      },
      "source": [
        "Dado o problema de previsão dos valores de venda de um imóvel baseado em seu tamanho teremos:\n",
        "\n",
        "$x=area$\n",
        "\n",
        "$y=price$\n",
        "\n",
        "Logo teremos a tupla $(x,y)$, que serão os dados utilizados para ajustar nossa regressão linear.\n",
        "\n",
        "Os dados a serem utilizados fazem parte de um dataset disponibilizado na plataforma Kaggle, disponível no link abaixo:\n",
        "\n",
        "https://www.kaggle.com/code/ashydv/housing-price-prediction-linear-regression"
      ]
    },
    {
      "cell_type": "markdown",
      "metadata": {
        "id": "7aqnKjcYjLpE"
      },
      "source": [
        "Importando os dados para uso das informações."
      ]
    },
    {
      "cell_type": "code",
      "execution_count": 29,
      "metadata": {
        "id": "P8UyJoovh2t3"
      },
      "outputs": [],
      "source": [
        "\n",
        "import numpy as np\n",
        "import pandas as pd\n",
        "import random\n",
        "\n",
        "import matplotlib.pyplot as plt \n",
        "import seaborn as sns\n",
        "import sklearn as sklearn"
      ]
    },
    {
      "cell_type": "code",
      "execution_count": 30,
      "metadata": {
        "id": "I8SZxXVlkBQR"
      },
      "outputs": [],
      "source": [
        "housing=pd.DataFrame(pd.read_csv(\"Housing.csv\"))"
      ]
    },
    {
      "cell_type": "code",
      "execution_count": 31,
      "metadata": {
        "colab": {
          "base_uri": "https://localhost:8080/",
          "height": 270
        },
        "id": "4emjloIJlI4y",
        "outputId": "4224a938-756a-4743-cfb3-8c19c8eef7a1"
      },
      "outputs": [
        {
          "data": {
            "text/html": [
              "<div>\n",
              "<style scoped>\n",
              "    .dataframe tbody tr th:only-of-type {\n",
              "        vertical-align: middle;\n",
              "    }\n",
              "\n",
              "    .dataframe tbody tr th {\n",
              "        vertical-align: top;\n",
              "    }\n",
              "\n",
              "    .dataframe thead th {\n",
              "        text-align: right;\n",
              "    }\n",
              "</style>\n",
              "<table border=\"1\" class=\"dataframe\">\n",
              "  <thead>\n",
              "    <tr style=\"text-align: right;\">\n",
              "      <th></th>\n",
              "      <th>price</th>\n",
              "      <th>area</th>\n",
              "      <th>bedrooms</th>\n",
              "      <th>bathrooms</th>\n",
              "      <th>stories</th>\n",
              "      <th>mainroad</th>\n",
              "      <th>guestroom</th>\n",
              "      <th>basement</th>\n",
              "      <th>hotwaterheating</th>\n",
              "      <th>airconditioning</th>\n",
              "      <th>parking</th>\n",
              "      <th>prefarea</th>\n",
              "      <th>furnishingstatus</th>\n",
              "    </tr>\n",
              "  </thead>\n",
              "  <tbody>\n",
              "    <tr>\n",
              "      <th>0</th>\n",
              "      <td>13300000</td>\n",
              "      <td>7420</td>\n",
              "      <td>4</td>\n",
              "      <td>2</td>\n",
              "      <td>3</td>\n",
              "      <td>yes</td>\n",
              "      <td>no</td>\n",
              "      <td>no</td>\n",
              "      <td>no</td>\n",
              "      <td>yes</td>\n",
              "      <td>2</td>\n",
              "      <td>yes</td>\n",
              "      <td>furnished</td>\n",
              "    </tr>\n",
              "    <tr>\n",
              "      <th>1</th>\n",
              "      <td>12250000</td>\n",
              "      <td>8960</td>\n",
              "      <td>4</td>\n",
              "      <td>4</td>\n",
              "      <td>4</td>\n",
              "      <td>yes</td>\n",
              "      <td>no</td>\n",
              "      <td>no</td>\n",
              "      <td>no</td>\n",
              "      <td>yes</td>\n",
              "      <td>3</td>\n",
              "      <td>no</td>\n",
              "      <td>furnished</td>\n",
              "    </tr>\n",
              "    <tr>\n",
              "      <th>2</th>\n",
              "      <td>12250000</td>\n",
              "      <td>9960</td>\n",
              "      <td>3</td>\n",
              "      <td>2</td>\n",
              "      <td>2</td>\n",
              "      <td>yes</td>\n",
              "      <td>no</td>\n",
              "      <td>yes</td>\n",
              "      <td>no</td>\n",
              "      <td>no</td>\n",
              "      <td>2</td>\n",
              "      <td>yes</td>\n",
              "      <td>semi-furnished</td>\n",
              "    </tr>\n",
              "    <tr>\n",
              "      <th>3</th>\n",
              "      <td>12215000</td>\n",
              "      <td>7500</td>\n",
              "      <td>4</td>\n",
              "      <td>2</td>\n",
              "      <td>2</td>\n",
              "      <td>yes</td>\n",
              "      <td>no</td>\n",
              "      <td>yes</td>\n",
              "      <td>no</td>\n",
              "      <td>yes</td>\n",
              "      <td>3</td>\n",
              "      <td>yes</td>\n",
              "      <td>furnished</td>\n",
              "    </tr>\n",
              "    <tr>\n",
              "      <th>4</th>\n",
              "      <td>11410000</td>\n",
              "      <td>7420</td>\n",
              "      <td>4</td>\n",
              "      <td>1</td>\n",
              "      <td>2</td>\n",
              "      <td>yes</td>\n",
              "      <td>yes</td>\n",
              "      <td>yes</td>\n",
              "      <td>no</td>\n",
              "      <td>yes</td>\n",
              "      <td>2</td>\n",
              "      <td>no</td>\n",
              "      <td>furnished</td>\n",
              "    </tr>\n",
              "  </tbody>\n",
              "</table>\n",
              "</div>"
            ],
            "text/plain": [
              "      price  area  bedrooms  bathrooms  stories mainroad guestroom basement  \\\n",
              "0  13300000  7420         4          2        3      yes        no       no   \n",
              "1  12250000  8960         4          4        4      yes        no       no   \n",
              "2  12250000  9960         3          2        2      yes        no      yes   \n",
              "3  12215000  7500         4          2        2      yes        no      yes   \n",
              "4  11410000  7420         4          1        2      yes       yes      yes   \n",
              "\n",
              "  hotwaterheating airconditioning  parking prefarea furnishingstatus  \n",
              "0              no             yes        2      yes        furnished  \n",
              "1              no             yes        3       no        furnished  \n",
              "2              no              no        2      yes   semi-furnished  \n",
              "3              no             yes        3      yes        furnished  \n",
              "4              no             yes        2       no        furnished  "
            ]
          },
          "execution_count": 31,
          "metadata": {},
          "output_type": "execute_result"
        }
      ],
      "source": [
        "housing.head()"
      ]
    },
    {
      "attachments": {},
      "cell_type": "markdown",
      "metadata": {},
      "source": [
        "Separando os dados em train e test"
      ]
    },
    {
      "cell_type": "code",
      "execution_count": 32,
      "metadata": {},
      "outputs": [],
      "source": [
        "#Seperando os dados em housing_train e housing_test\n",
        "\n",
        "from sklearn.model_selection import train_test_split\n",
        "\n",
        "housing_train, housing_test = train_test_split(housing, test_size=0.5, random_state=0)"
      ]
    },
    {
      "cell_type": "code",
      "execution_count": 33,
      "metadata": {
        "id": "v1tGxUGAlOVW"
      },
      "outputs": [],
      "source": [
        "X_train=housing_train[['area']]\n",
        "X_test=housing_test[['area']]"
      ]
    },
    {
      "cell_type": "code",
      "execution_count": 34,
      "metadata": {},
      "outputs": [],
      "source": [
        "y_train=housing_train[['price']]\n",
        "y_test=housing_test[['price']]"
      ]
    },
    {
      "cell_type": "code",
      "execution_count": 35,
      "metadata": {
        "colab": {
          "base_uri": "https://localhost:8080/"
        },
        "id": "l9P1bk8wm0Zi",
        "outputId": "92f864ba-4c02-4bb0-c884-9c9e42df47a5"
      },
      "outputs": [
        {
          "data": {
            "text/plain": [
              "<bound method NDFrame.head of       area\n",
              "2     9960\n",
              "221   3420\n",
              "513   4400\n",
              "146  10500\n",
              "241   3760\n",
              "..     ...\n",
              "70    4000\n",
              "277  10360\n",
              "9     5750\n",
              "359   3600\n",
              "192   6600\n",
              "\n",
              "[272 rows x 1 columns]>"
            ]
          },
          "execution_count": 35,
          "metadata": {},
          "output_type": "execute_result"
        }
      ],
      "source": [
        "X_train.head\n"
      ]
    },
    {
      "cell_type": "code",
      "execution_count": 36,
      "metadata": {},
      "outputs": [
        {
          "data": {
            "text/plain": [
              "<bound method NDFrame.head of         price\n",
              "2    12250000\n",
              "221   4767000\n",
              "513   2485000\n",
              "146   5600000\n",
              "241   4550000\n",
              "..        ...\n",
              "70    6790000\n",
              "277   4305000\n",
              "9     9800000\n",
              "359   3710000\n",
              "192   5040000\n",
              "\n",
              "[272 rows x 1 columns]>"
            ]
          },
          "execution_count": 36,
          "metadata": {},
          "output_type": "execute_result"
        }
      ],
      "source": [
        "y_train.head"
      ]
    },
    {
      "cell_type": "markdown",
      "metadata": {
        "id": "2rObIIcvm6yJ"
      },
      "source": [
        "Agora que ja separamos os parâmetros a serem utilizados, area e preço.\n",
        "Poderemos construir a regressão."
      ]
    },
    {
      "cell_type": "code",
      "execution_count": 37,
      "metadata": {
        "colab": {
          "base_uri": "https://localhost:8080/"
        },
        "id": "WrwQGLsym56J",
        "outputId": "53d97fa7-f9cc-4e1a-9bc5-eaf20aecb55d"
      },
      "outputs": [
        {
          "data": {
            "text/plain": [
              "(272, 1)"
            ]
          },
          "execution_count": 37,
          "metadata": {},
          "output_type": "execute_result"
        }
      ],
      "source": [
        "X_train.shape"
      ]
    },
    {
      "cell_type": "code",
      "execution_count": 38,
      "metadata": {},
      "outputs": [
        {
          "data": {
            "text/plain": [
              "(272, 1)"
            ]
          },
          "execution_count": 38,
          "metadata": {},
          "output_type": "execute_result"
        }
      ],
      "source": [
        "y_train.shape"
      ]
    },
    {
      "cell_type": "code",
      "execution_count": 39,
      "metadata": {
        "colab": {
          "base_uri": "https://localhost:8080/",
          "height": 166
        },
        "id": "o0uXDg7D158c",
        "outputId": "921c0a7a-6314-4c49-980a-97f75199d340"
      },
      "outputs": [],
      "source": [
        "random.seed(32)\n",
        "from numpy import linalg as linalg"
      ]
    },
    {
      "attachments": {},
      "cell_type": "markdown",
      "metadata": {},
      "source": [
        "Aplicando o Feature Scaling nos dados"
      ]
    },
    {
      "attachments": {},
      "cell_type": "markdown",
      "metadata": {},
      "source": [
        "Definindo o método da Regressão Linear"
      ]
    },
    {
      "cell_type": "code",
      "execution_count": 40,
      "metadata": {},
      "outputs": [],
      "source": [
        "class linear_regression():\n",
        "    def __init__(self, learning_rate, iterations):\n",
        "        self.learning_rate = learning_rate\n",
        "        self.iterations = iterations\n",
        "        self.weights = None\n",
        "        self.min_X = None\n",
        "        self.max_X = None\n",
        "        self.bias = None\n",
        "        self.min_y = None\n",
        "        self.max_y = None\n",
        "        \n",
        "        \n",
        "        \n",
        "    def fit(self, X, y):\n",
        "        X=np.column_stack((np.ones(len(X)), X))\n",
        "        \n",
        "        XtX=np.dot(X.T, X)\n",
        "        XtX_inv=linalg.inv(XtX)\n",
        "        XtY=np.dot(X.T, y)\n",
        "        B=np.dot(XtX_inv, XtY)\n",
        "        self.weights = B\n",
        "\n",
        "        \n",
        "    def predict(self, X):\n",
        "        X=np.column_stack((np.ones(len(X)), X))\n",
        "        y_predicted= np.dot(X, self.weights)\n",
        "        return y_predicted   \n",
        "    \n",
        "    def cost_function(self, X, y):\n",
        "        #Seguindo a formula do MSE (Mean Squared Error)\n",
        "        return np.mean((y_predicted - y) ** 2)\n",
        "    \n",
        "    def feature_scaling_X_train(self, X):\n",
        "        self.min_X = np.min(X, axis=0)\n",
        "        self.max_X = np.max(X, axis=0)\n",
        "        return (X - self.min_X) / (self.max_X - self.min_X)\n",
        "    \n",
        "    def feature_scaling_y_train(self, y):\n",
        "        self.min_y = np.min(y, axis=0)\n",
        "        self.max_y = np.max(y, axis=0)\n",
        "        return (y - self.min_y) / (self.max_y - self.min_y)\n",
        "    \n",
        "    def inverse_feature_scaling_y(self, y):\n",
        "        return y * (self.max_y - self.min_y) + self.min_y\n",
        "    \n",
        "    def inverse_feature_scaling_X(self, X):\n",
        "        return X * (self.max_X - self.min_X) + self.min_X\n",
        "    \n",
        "    def feature_scaling_X_test(self, X):\n",
        "\n",
        "        return (X - self.min_X) / (self.max_X - self.min_X)\n",
        "    \n",
        "\n",
        "    def feature_scaling_y_test(self, y):\n",
        "        return (y - self.min_y) / (self.max_y - self.min_y)\n",
        "    \n",
        "#Calculando a acurácia do modelo\n",
        "    \n",
        "    def score(self, y_pred, y_real):      \n",
        "    \n",
        "    def plot_regression_line(self, X, y):\n",
        "        plt.scatter(X, y)\n",
        "        y_pred = self.predict(X)\n",
        "        plt.plot(X, y_pred, color='red')\n",
        "        plt.show()\n",
        "                "
      ]
    },
    {
      "cell_type": "code",
      "execution_count": 41,
      "metadata": {},
      "outputs": [],
      "source": [
        "#Instanciando o modelo\n",
        "\n",
        "model = linear_regression(learning_rate=1, iterations=1000)"
      ]
    },
    {
      "cell_type": "code",
      "execution_count": 42,
      "metadata": {},
      "outputs": [
        {
          "name": "stdout",
          "output_type": "stream",
          "text": [
            "         area\n",
            "2    0.586813\n",
            "221  0.107692\n",
            "513  0.179487\n",
            "146  0.626374\n",
            "241  0.132601\n",
            "..        ...\n",
            "70   0.150183\n",
            "277  0.616117\n",
            "9    0.278388\n",
            "359  0.120879\n",
            "192  0.340659\n",
            "\n",
            "[272 rows x 1 columns]\n"
          ]
        }
      ],
      "source": [
        "#Normalizando os dados de treino\n",
        "X_train = model.feature_scaling_X_train(X_train)\n",
        "y_train = model.feature_scaling_y_train(y_train)\n",
        "print(X_train)"
      ]
    },
    {
      "cell_type": "code",
      "execution_count": 43,
      "metadata": {},
      "outputs": [
        {
          "name": "stdout",
          "output_type": "stream",
          "text": [
            "[[0.12716232]\n",
            " [0.57520354]] None\n"
          ]
        }
      ],
      "source": [
        "#Treinando o modelo\n",
        "model.fit(X_train, y_train)\n",
        "print(model.weights, model.bias)"
      ]
    },
    {
      "cell_type": "code",
      "execution_count": 44,
      "metadata": {},
      "outputs": [
        {
          "name": "stdout",
          "output_type": "stream",
          "text": [
            "         area\n",
            "239  0.150183\n",
            "113  0.561905\n",
            "325  0.110623\n",
            "66   0.824176\n",
            "479  0.125275\n",
            "..        ...\n",
            "494  0.355311\n",
            "322  0.110623\n",
            "253  0.115018\n",
            "299  0.369963\n",
            "463  0.083516\n",
            "\n",
            "[273 rows x 1 columns]\n"
          ]
        }
      ],
      "source": [
        "#Normalizando os dados de teste\n",
        "X_test = model.feature_scaling_X_test(X_test)\n",
        "y_test = model.feature_scaling_y_test(y_test)\n",
        "print(X_test)\n",
        "    "
      ]
    },
    {
      "cell_type": "code",
      "execution_count": 49,
      "metadata": {},
      "outputs": [
        {
          "name": "stdout",
          "output_type": "stream",
          "text": [
            "[[0.2135482 ]\n",
            " [0.45037193]\n",
            " [0.1907929 ]\n",
            " [0.60123118]\n",
            " [0.19922079]\n",
            " [0.31257592]\n",
            " [0.20722729]\n",
            " [0.19163569]\n",
            " [0.19298415]\n",
            " [0.42424547]\n",
            " [0.29782711]\n",
            " [0.21186262]\n",
            " [0.1903715 ]\n",
            " [0.30035548]\n",
            " [0.29719502]\n",
            " [0.14738926]\n",
            " [0.25147371]\n",
            " [0.2986699 ]\n",
            " [0.17562269]\n",
            " [0.23461793]\n",
            " [0.38842694]\n",
            " [0.31678986]\n",
            " [0.25568766]\n",
            " [0.11662746]\n",
            " [0.31552568]\n",
            " [0.17772967]\n",
            " [0.33996656]\n",
            " [0.28434249]\n",
            " [0.18405059]\n",
            " [0.31552568]\n",
            " [0.23040398]\n",
            " [0.14085765]\n",
            " [0.3989618 ]\n",
            " [0.21523378]\n",
            " [0.17646548]\n",
            " [0.31636847]\n",
            " [0.29782711]\n",
            " [0.17292577]\n",
            " [0.1903715 ]\n",
            " [0.1366437 ]\n",
            " [0.40317575]\n",
            " [0.29361317]\n",
            " [0.28939922]\n",
            " [0.27654669]\n",
            " [0.19332127]\n",
            " [0.29782711]\n",
            " [0.22029052]\n",
            " [0.21523378]\n",
            " [0.21548662]\n",
            " [0.28518527]\n",
            " [0.24894534]\n",
            " [0.45235249]\n",
            " [0.11452049]\n",
            " [0.20722729]\n",
            " [0.29277038]\n",
            " [0.28602806]\n",
            " [0.39264088]\n",
            " [0.24051745]\n",
            " [0.19669242]\n",
            " [0.33996656]\n",
            " [0.58858934]\n",
            " [0.32311078]\n",
            " [0.13495812]\n",
            " [0.29782711]\n",
            " [0.15623855]\n",
            " [0.16369723]\n",
            " [0.34649818]\n",
            " [0.23082538]\n",
            " [0.23461793]\n",
            " [0.31046895]\n",
            " [0.13537952]\n",
            " [0.27675738]\n",
            " [0.19669242]\n",
            " [0.22450446]\n",
            " [0.20427752]\n",
            " [0.16593062]\n",
            " [0.18910732]\n",
            " [0.4065469 ]\n",
            " [0.1676162 ]\n",
            " [0.2135482 ]\n",
            " [0.13537952]\n",
            " [0.36887423]\n",
            " [0.23503932]\n",
            " [0.34637176]\n",
            " [0.23883188]\n",
            " [0.18152222]\n",
            " [0.18910732]\n",
            " [0.28939922]\n",
            " [0.17772967]\n",
            " [0.21670866]\n",
            " [0.35783369]\n",
            " [0.42424547]\n",
            " [0.198378  ]\n",
            " [0.17772967]\n",
            " [0.13537952]\n",
            " [0.42255989]\n",
            " [0.13601161]\n",
            " [0.32100381]\n",
            " [0.37241394]\n",
            " [0.3989618 ]\n",
            " [0.48745465]\n",
            " [0.19163569]\n",
            " [0.16243305]\n",
            " [0.17140875]\n",
            " [0.31552568]\n",
            " [0.26411555]\n",
            " [0.30035548]\n",
            " [0.23461793]\n",
            " [0.30204106]\n",
            " [0.19753521]\n",
            " [0.2135482 ]\n",
            " [0.17309433]\n",
            " [0.19669242]\n",
            " [0.4604854 ]\n",
            " [0.21219974]\n",
            " [0.20680589]\n",
            " [0.45795704]\n",
            " [0.198378  ]\n",
            " [0.19332127]\n",
            " [0.60123118]\n",
            " [0.15876691]\n",
            " [0.22619004]\n",
            " [0.23461793]\n",
            " [0.25547696]\n",
            " [0.17431637]\n",
            " [0.22838129]\n",
            " [0.41918874]\n",
            " [0.59044348]\n",
            " [0.34670888]\n",
            " [0.19669242]\n",
            " [0.32521776]\n",
            " [0.21565518]\n",
            " [0.17140875]\n",
            " [0.198378  ]\n",
            " [0.27085786]\n",
            " [0.72764954]\n",
            " [0.29614153]\n",
            " [0.1292693 ]\n",
            " [0.26832949]\n",
            " [0.17140875]\n",
            " [0.18826453]\n",
            " [0.27675738]\n",
            " [0.31468289]\n",
            " [0.27675738]\n",
            " [0.29782711]\n",
            " [0.35998281]\n",
            " [0.17899385]\n",
            " [0.35850792]\n",
            " [0.32311078]\n",
            " [0.17014457]\n",
            " [0.3989618 ]\n",
            " [0.22787562]\n",
            " [0.25889026]\n",
            " [0.52706574]\n",
            " [0.24304582]\n",
            " [0.29782711]\n",
            " [0.4065469 ]\n",
            " [0.38631996]\n",
            " [0.16534067]\n",
            " [0.25400208]\n",
            " [0.2135482 ]\n",
            " [0.18615756]\n",
            " [0.47649839]\n",
            " [0.29782711]\n",
            " [0.23461793]\n",
            " [0.21312681]\n",
            " [0.22703283]\n",
            " [0.12526605]\n",
            " [0.19289987]\n",
            " [0.14612508]\n",
            " [0.25400208]\n",
            " [0.31995032]\n",
            " [0.19879939]\n",
            " [0.3294317 ]\n",
            " [0.29782711]\n",
            " [0.21186262]\n",
            " [0.20512031]\n",
            " [0.22829701]\n",
            " [0.17140875]\n",
            " [0.26917228]\n",
            " [0.29150619]\n",
            " [0.36525024]\n",
            " [0.29782711]\n",
            " [0.47772044]\n",
            " [0.27254344]\n",
            " [0.21860494]\n",
            " [0.38126323]\n",
            " [0.20722729]\n",
            " [0.33322425]\n",
            " [0.19795661]\n",
            " [0.23883188]\n",
            " [0.38547717]\n",
            " [0.152446  ]\n",
            " [0.21228402]\n",
            " [0.29782711]\n",
            " [0.21523378]\n",
            " [0.29782711]\n",
            " [0.26832949]\n",
            " [0.24725977]\n",
            " [0.23883188]\n",
            " [0.35766514]\n",
            " [0.1676162 ]\n",
            " [0.34839446]\n",
            " [0.198378  ]\n",
            " [0.20301334]\n",
            " [0.36103629]\n",
            " [0.32563915]\n",
            " [0.21691936]\n",
            " [0.23546072]\n",
            " [0.29782711]\n",
            " [0.32374287]\n",
            " [0.30853053]\n",
            " [0.38421299]\n",
            " [0.29782711]\n",
            " [0.24077029]\n",
            " [0.22703283]\n",
            " [0.17920455]\n",
            " [0.23461793]\n",
            " [0.37367813]\n",
            " [0.27675738]\n",
            " [0.21565518]\n",
            " [0.15665994]\n",
            " [0.25526626]\n",
            " [0.38631996]\n",
            " [0.19795661]\n",
            " [0.51589878]\n",
            " [0.24894534]\n",
            " [0.19332127]\n",
            " [0.32058242]\n",
            " [0.2135482 ]\n",
            " [0.21860494]\n",
            " [0.3370168 ]\n",
            " [0.2047832 ]\n",
            " [0.19332127]\n",
            " [0.14612508]\n",
            " [0.12235843]\n",
            " [0.3066764 ]\n",
            " [0.18657895]\n",
            " [0.24620628]\n",
            " [0.19289987]\n",
            " [0.25358068]\n",
            " [0.39264088]\n",
            " [0.35471537]\n",
            " [0.31152243]\n",
            " [0.23082538]\n",
            " [0.49588254]\n",
            " [0.33575262]\n",
            " [0.1752013 ]\n",
            " [0.2291398 ]\n",
            " [0.32774612]\n",
            " [0.27465041]\n",
            " [0.29277038]\n",
            " [0.31299731]\n",
            " [0.17140875]\n",
            " [0.13537952]\n",
            " [0.52580156]\n",
            " [0.1981673 ]\n",
            " [0.22871841]\n",
            " [0.19247848]\n",
            " [0.17646548]\n",
            " [0.28097133]\n",
            " [0.34839446]\n",
            " [0.27465041]\n",
            " [0.18152222]\n",
            " [0.29563586]\n",
            " [0.25568766]\n",
            " [0.26141862]\n",
            " [0.29782711]\n",
            " [0.33153867]\n",
            " [0.1907929 ]\n",
            " [0.19332127]\n",
            " [0.33996656]\n",
            " [0.1752013 ]]\n"
          ]
        }
      ],
      "source": [
        "#Testando o modelo\n",
        "y_predicted = model.predict(X_test)\n",
        "print(y_predicted)\n"
      ]
    },
    {
      "cell_type": "code",
      "execution_count": 54,
      "metadata": {},
      "outputs": [
        {
          "ename": "ValueError",
          "evalue": "shapes (272,1) and (2,1) not aligned: 1 (dim 1) != 2 (dim 0)",
          "output_type": "error",
          "traceback": [
            "\u001b[0;31m---------------------------------------------------------------------------\u001b[0m",
            "\u001b[0;31mValueError\u001b[0m                                Traceback (most recent call last)",
            "Cell \u001b[0;32mIn[54], line 2\u001b[0m\n\u001b[1;32m      1\u001b[0m \u001b[39m#Calculando a acurácia do modelo\u001b[39;00m\n\u001b[0;32m----> 2\u001b[0m \u001b[39mprint\u001b[39m(model\u001b[39m.\u001b[39;49mcost_function(X_train, y_train))\n",
            "Cell \u001b[0;32mIn[40], line 31\u001b[0m, in \u001b[0;36mlinear_regression.cost_function\u001b[0;34m(self, X, y)\u001b[0m\n\u001b[1;32m     29\u001b[0m \u001b[39mdef\u001b[39;00m \u001b[39mcost_function\u001b[39m(\u001b[39mself\u001b[39m, X, y):\n\u001b[1;32m     30\u001b[0m     \u001b[39m#Seguindo a formula do MSE (Mean Squared Error)\u001b[39;00m\n\u001b[0;32m---> 31\u001b[0m     y_predicted \u001b[39m=\u001b[39m np\u001b[39m.\u001b[39;49mdot(X, \u001b[39mself\u001b[39;49m\u001b[39m.\u001b[39;49mweights) \u001b[39m+\u001b[39m \u001b[39mself\u001b[39m\u001b[39m.\u001b[39mbias\n\u001b[1;32m     32\u001b[0m     \u001b[39mreturn\u001b[39;00m np\u001b[39m.\u001b[39mmean((y_predicted \u001b[39m-\u001b[39m y) \u001b[39m*\u001b[39m\u001b[39m*\u001b[39m \u001b[39m2\u001b[39m)\n",
            "File \u001b[0;32m<__array_function__ internals>:200\u001b[0m, in \u001b[0;36mdot\u001b[0;34m(*args, **kwargs)\u001b[0m\n",
            "\u001b[0;31mValueError\u001b[0m: shapes (272,1) and (2,1) not aligned: 1 (dim 1) != 2 (dim 0)"
          ]
        }
      ],
      "source": [
        "#Calculando a acurácia do modelo\n",
        "print(model.cost_function(X_train, y_train))"
      ]
    },
    {
      "cell_type": "code",
      "execution_count": 47,
      "metadata": {},
      "outputs": [
        {
          "data": {
            "image/png": "[encoded data removed]",
            "text/plain": [
              "<Figure size 432x288 with 1 Axes>"
            ]
          },
          "metadata": {
            "needs_background": "light"
          },
          "output_type": "display_data"
        }
      ],
      "source": [
        "#Plotando a reta de regressão\n",
        "model.plot_regression_line(X_test, y_test)"
      ]
    },
    {
      "attachments": {},
      "cell_type": "markdown",
      "metadata": {},
      "source": [
        "Equacao normal\n",
        "gradiente estocastico\n",
        "\n",
        "logistic regression\n",
        "cross-entropy\n",
        "dataset breast cancer UCI 1-feature\n",
        "malignant - non-malignant"
      ]
    }
  ],
  "metadata": {
    "colab": {
      "provenance": []
    },
    "kernelspec": {
      "display_name": "Python 3",
      "language": "python",
      "name": "python3"
    },
    "language_info": {
      "codemirror_mode": {
        "name": "ipython",
        "version": 3
      },
      "file_extension": ".py",
      "mimetype": "text/x-python",
      "name": "python",
      "nbconvert_exporter": "python",
      "pygments_lexer": "ipython3",
      "version": "3.10.7"
    },
    "vscode": {
      "interpreter": {
        "hash": "916dbcbb3f70747c44a77c7bcd40155683ae19c65e1c03b4aa3499c5328201f1"
      }
    }
  },
  "nbformat": 4,
  "nbformat_minor": 0
}
